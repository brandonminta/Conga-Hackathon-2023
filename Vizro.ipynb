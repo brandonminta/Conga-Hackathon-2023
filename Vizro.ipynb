{
 "cells": [
  {
   "cell_type": "code",
   "execution_count": 1,
   "id": "63dadf30",
   "metadata": {},
   "outputs": [
    {
     "name": "stdout",
     "output_type": "stream",
     "text": [
      "0.1.4\n"
     ]
    }
   ],
   "source": [
    "import vizro\n",
    "\n",
    "print(vizro.__version__)\n"
   ]
  },
  {
   "cell_type": "code",
   "execution_count": 2,
   "id": "2a4a2cd3",
   "metadata": {},
   "outputs": [],
   "source": [
    "import pandas as pd"
   ]
  },
  {
   "cell_type": "code",
   "execution_count": 3,
   "id": "3d3c2146",
   "metadata": {},
   "outputs": [],
   "source": [
    "import datetime\n",
    "\n",
    "# Get the current time\n",
    "current_time = datetime.datetime.now()"
   ]
  },
  {
   "cell_type": "code",
   "execution_count": 4,
   "id": "3e947eca",
   "metadata": {},
   "outputs": [],
   "source": [
    "df = pd.read_csv('ehr.csv')"
   ]
  },
  {
   "cell_type": "code",
   "execution_count": 5,
   "id": "c9db5951",
   "metadata": {},
   "outputs": [],
   "source": [
    "#import plotly.express as px"
   ]
  },
  {
   "cell_type": "code",
   "execution_count": 6,
   "id": "6e0d0d6e",
   "metadata": {},
   "outputs": [],
   "source": [
    "subset_df = df[df['patient_id'] == 19010]\n",
    "patient_data = {\n",
    "    \"Patient ID\": 19010,\n",
    "    \"Age\": subset_df['Age'].iloc[-1],\n",
    "    \"Gender\": subset_df['Gender'].iloc[-1],\n",
    "}\n",
    "#\n",
    "formatted_content = f\"\"\"\n",
    "## Patient Information\n",
    "- **Patient ID:** {patient_data['Patient ID']}\n",
    "- **Age:** {patient_data['Age']}\n",
    "- **Gender:** {patient_data['Gender']}\n",
    "\"\"\""
   ]
  },
  {
   "cell_type": "code",
   "execution_count": 7,
   "id": "f8f33601",
   "metadata": {
    "scrolled": true
   },
   "outputs": [
    {
     "name": "stderr",
     "output_type": "stream",
     "text": [
      "/tmp/ipykernel_2657/2048196885.py:4: UserWarning: \n",
      "The dash_core_components package is deprecated. Please replace\n",
      "`import dash_core_components as dcc` with `from dash import dcc`\n",
      "  import dash_core_components as dcc\n"
     ]
    },
    {
     "ename": "AttributeError",
     "evalue": "'DataFrame' object has no attribute 'append'",
     "output_type": "error",
     "traceback": [
      "\u001b[0;31m---------------------------------------------------------------------------\u001b[0m",
      "\u001b[0;31mAttributeError\u001b[0m                            Traceback (most recent call last)",
      "\u001b[0;32m/tmp/ipykernel_2657/2048196885.py\u001b[0m in \u001b[0;36m?\u001b[0;34m()\u001b[0m\n\u001b[1;32m     54\u001b[0m data2 = {\n\u001b[1;32m     55\u001b[0m     'Rol': ['Min. Value', 'Min. Value', 'Min. Value', 'Min. Value', 'Min. Value',\n\u001b[1;32m     56\u001b[0m                 \u001b[0;34m'Max. Value'\u001b[0m\u001b[0;34m,\u001b[0m \u001b[0;34m'Max. Value'\u001b[0m\u001b[0;34m,\u001b[0m \u001b[0;34m'Max. Value'\u001b[0m\u001b[0;34m,\u001b[0m \u001b[0;34m'Max. Value'\u001b[0m\u001b[0;34m,\u001b[0m \u001b[0;34m'Max. Value'\u001b[0m\u001b[0;34m,\u001b[0m\u001b[0;34m\u001b[0m\u001b[0;34m\u001b[0m\u001b[0m\n\u001b[1;32m     57\u001b[0m                 'Patient ', 'Patient ', 'Patient ', 'Patient ', 'Patient '],\n\u001b[0;32m---> 58\u001b[0;31m     'variable': ['HR', 'Tº', 'Leukocite.', 'Creatine', 'O2 Sat ',\n\u001b[0m\u001b[1;32m     59\u001b[0m                 \u001b[0;34m'HR'\u001b[0m\u001b[0;34m,\u001b[0m \u001b[0;34m'Tº'\u001b[0m\u001b[0;34m,\u001b[0m \u001b[0;34m'Leukocite.'\u001b[0m\u001b[0;34m,\u001b[0m \u001b[0;34m'Creatine'\u001b[0m\u001b[0;34m,\u001b[0m \u001b[0;34m'O2 Sat '\u001b[0m\u001b[0;34m,\u001b[0m\u001b[0;34m\u001b[0m\u001b[0;34m\u001b[0m\u001b[0m\n\u001b[1;32m     60\u001b[0m                 'HR', 'Tº', 'Leukocite.', 'Creatine', 'O2 Sat'],\n\u001b[1;32m     61\u001b[0m     'value': [\n",
      "\u001b[0;32m~/anaconda3/envs/py39/lib/python3.9/site-packages/vizro/models/types.py\u001b[0m in \u001b[0;36m?\u001b[0;34m(*args, **kwargs)\u001b[0m\n\u001b[1;32m    197\u001b[0m                     \u001b[0;31m# CapturedCallable.\u001b[0m\u001b[0;34m\u001b[0m\u001b[0;34m\u001b[0m\u001b[0m\n\u001b[1;32m    198\u001b[0m                     \u001b[0mfig\u001b[0m \u001b[0;34m=\u001b[0m \u001b[0m_DashboardReadyFigure\u001b[0m\u001b[0;34m(\u001b[0m\u001b[0;34m)\u001b[0m\u001b[0;34m\u001b[0m\u001b[0;34m\u001b[0m\u001b[0m\n\u001b[1;32m    199\u001b[0m                 \u001b[0;32melse\u001b[0m\u001b[0;34m:\u001b[0m\u001b[0;34m\u001b[0m\u001b[0;34m\u001b[0m\u001b[0m\n\u001b[1;32m    200\u001b[0m                     \u001b[0;31m# Standard case for px.scatter(df: pd.DataFrame).\u001b[0m\u001b[0;34m\u001b[0m\u001b[0;34m\u001b[0m\u001b[0m\n\u001b[0;32m--> 201\u001b[0;31m                     \u001b[0mfig\u001b[0m \u001b[0;34m=\u001b[0m \u001b[0mfunc\u001b[0m\u001b[0;34m(\u001b[0m\u001b[0;34m*\u001b[0m\u001b[0margs\u001b[0m\u001b[0;34m,\u001b[0m \u001b[0;34m**\u001b[0m\u001b[0mkwargs\u001b[0m\u001b[0;34m)\u001b[0m\u001b[0;34m\u001b[0m\u001b[0;34m\u001b[0m\u001b[0m\n\u001b[0m\u001b[1;32m    202\u001b[0m                     \u001b[0mfig\u001b[0m\u001b[0;34m.\u001b[0m\u001b[0m__class__\u001b[0m \u001b[0;34m=\u001b[0m \u001b[0m_DashboardReadyFigure\u001b[0m\u001b[0;34m\u001b[0m\u001b[0;34m\u001b[0m\u001b[0m\n\u001b[1;32m    203\u001b[0m \u001b[0;34m\u001b[0m\u001b[0m\n\u001b[1;32m    204\u001b[0m                 \u001b[0mfig\u001b[0m\u001b[0;34m.\u001b[0m\u001b[0m_captured_callable\u001b[0m \u001b[0;34m=\u001b[0m \u001b[0mcaptured_callable\u001b[0m\u001b[0;34m\u001b[0m\u001b[0;34m\u001b[0m\u001b[0m\n",
      "\u001b[0;32m~/anaconda3/envs/py39/lib/python3.9/site-packages/plotly/express/_chart_types.py\u001b[0m in \u001b[0;36m?\u001b[0;34m(data_frame, r, theta, color, line_dash, hover_name, hover_data, custom_data, line_group, text, symbol, animation_frame, animation_group, category_orders, labels, color_discrete_sequence, color_discrete_map, line_dash_sequence, line_dash_map, symbol_sequence, symbol_map, markers, direction, start_angle, line_close, line_shape, render_mode, range_r, range_theta, log_r, title, template, width, height)\u001b[0m\n\u001b[1;32m    994\u001b[0m     \"\"\"\n\u001b[1;32m    995\u001b[0m     \u001b[0mIn\u001b[0m \u001b[0ma\u001b[0m \u001b[0mpolar\u001b[0m \u001b[0mline\u001b[0m \u001b[0mplot\u001b[0m\u001b[0;34m,\u001b[0m \u001b[0meach\u001b[0m \u001b[0mrow\u001b[0m \u001b[0mof\u001b[0m\u001b[0;31m \u001b[0m\u001b[0;31m`\u001b[0m\u001b[0mdata_frame\u001b[0m\u001b[0;31m`\u001b[0m \u001b[0;32mis\u001b[0m \u001b[0mrepresented\u001b[0m \u001b[0;32mas\u001b[0m \u001b[0mvertex\u001b[0m\u001b[0;34m\u001b[0m\u001b[0;34m\u001b[0m\u001b[0m\n\u001b[1;32m    996\u001b[0m     \u001b[0mof\u001b[0m \u001b[0ma\u001b[0m \u001b[0mpolyline\u001b[0m \u001b[0mmark\u001b[0m \u001b[0;32min\u001b[0m \u001b[0mpolar\u001b[0m \u001b[0mcoordinates\u001b[0m\u001b[0;34m.\u001b[0m\u001b[0;34m\u001b[0m\u001b[0;34m\u001b[0m\u001b[0m\n\u001b[1;32m    997\u001b[0m     \"\"\"\n\u001b[0;32m--> 998\u001b[0;31m     \u001b[0;32mreturn\u001b[0m \u001b[0mmake_figure\u001b[0m\u001b[0;34m(\u001b[0m\u001b[0margs\u001b[0m\u001b[0;34m=\u001b[0m\u001b[0mlocals\u001b[0m\u001b[0;34m(\u001b[0m\u001b[0;34m)\u001b[0m\u001b[0;34m,\u001b[0m \u001b[0mconstructor\u001b[0m\u001b[0;34m=\u001b[0m\u001b[0mgo\u001b[0m\u001b[0;34m.\u001b[0m\u001b[0mScatterpolar\u001b[0m\u001b[0;34m)\u001b[0m\u001b[0;34m\u001b[0m\u001b[0;34m\u001b[0m\u001b[0m\n\u001b[0m",
      "\u001b[0;32m~/anaconda3/envs/py39/lib/python3.9/site-packages/plotly/express/_core.py\u001b[0m in \u001b[0;36m?\u001b[0;34m(args, constructor, trace_patch, layout_patch)\u001b[0m\n\u001b[1;32m   2163\u001b[0m                     \u001b[0mgroup\u001b[0m\u001b[0;34m[\u001b[0m\u001b[0mvar\u001b[0m\u001b[0;34m]\u001b[0m \u001b[0;34m=\u001b[0m \u001b[0mgroup\u001b[0m\u001b[0;34m[\u001b[0m\u001b[0mvar\u001b[0m\u001b[0;34m]\u001b[0m \u001b[0;34m/\u001b[0m \u001b[0mgroup_sum\u001b[0m\u001b[0;34m\u001b[0m\u001b[0;34m\u001b[0m\u001b[0m\n\u001b[1;32m   2164\u001b[0m                 \u001b[0;32melif\u001b[0m \u001b[0margs\u001b[0m\u001b[0;34m[\u001b[0m\u001b[0;34m\"ecdfnorm\"\u001b[0m\u001b[0;34m]\u001b[0m \u001b[0;34m==\u001b[0m \u001b[0;34m\"percent\"\u001b[0m\u001b[0;34m:\u001b[0m\u001b[0;34m\u001b[0m\u001b[0;34m\u001b[0m\u001b[0m\n\u001b[1;32m   2165\u001b[0m                     \u001b[0mgroup\u001b[0m\u001b[0;34m[\u001b[0m\u001b[0mvar\u001b[0m\u001b[0;34m]\u001b[0m \u001b[0;34m=\u001b[0m \u001b[0;36m100.0\u001b[0m \u001b[0;34m*\u001b[0m \u001b[0mgroup\u001b[0m\u001b[0;34m[\u001b[0m\u001b[0mvar\u001b[0m\u001b[0;34m]\u001b[0m \u001b[0;34m/\u001b[0m \u001b[0mgroup_sum\u001b[0m\u001b[0;34m\u001b[0m\u001b[0;34m\u001b[0m\u001b[0m\n\u001b[1;32m   2166\u001b[0m \u001b[0;34m\u001b[0m\u001b[0m\n\u001b[0;32m-> 2167\u001b[0;31m             patch, fit_results = make_trace_kwargs(\n\u001b[0m\u001b[1;32m   2168\u001b[0m                 \u001b[0margs\u001b[0m\u001b[0;34m,\u001b[0m \u001b[0mtrace_spec\u001b[0m\u001b[0;34m,\u001b[0m \u001b[0mgroup\u001b[0m\u001b[0;34m,\u001b[0m \u001b[0mmapping_labels\u001b[0m\u001b[0;34m.\u001b[0m\u001b[0mcopy\u001b[0m\u001b[0;34m(\u001b[0m\u001b[0;34m)\u001b[0m\u001b[0;34m,\u001b[0m \u001b[0msizeref\u001b[0m\u001b[0;34m\u001b[0m\u001b[0;34m\u001b[0m\u001b[0m\n\u001b[1;32m   2169\u001b[0m             )\n\u001b[1;32m   2170\u001b[0m             \u001b[0mtrace\u001b[0m\u001b[0;34m.\u001b[0m\u001b[0mupdate\u001b[0m\u001b[0;34m(\u001b[0m\u001b[0mpatch\u001b[0m\u001b[0;34m)\u001b[0m\u001b[0;34m\u001b[0m\u001b[0;34m\u001b[0m\u001b[0m\n",
      "\u001b[0;32m~/anaconda3/envs/py39/lib/python3.9/site-packages/plotly/express/_core.py\u001b[0m in \u001b[0;36m?\u001b[0;34m(args, trace_spec, trace_data, mapping_labels, sizeref)\u001b[0m\n\u001b[1;32m    267\u001b[0m     \u001b[0mfit_results\u001b[0m \u001b[0;34m:\u001b[0m \u001b[0mdict\u001b[0m\u001b[0;34m\u001b[0m\u001b[0;34m\u001b[0m\u001b[0m\n\u001b[1;32m    268\u001b[0m         \u001b[0mfit\u001b[0m \u001b[0minformation\u001b[0m \u001b[0mto\u001b[0m \u001b[0mbe\u001b[0m \u001b[0mused\u001b[0m \u001b[0;32mfor\u001b[0m \u001b[0mtrendlines\u001b[0m\u001b[0;34m\u001b[0m\u001b[0;34m\u001b[0m\u001b[0m\n\u001b[1;32m    269\u001b[0m     \"\"\"\n\u001b[1;32m    270\u001b[0m     \u001b[0;32mif\u001b[0m \u001b[0;34m\"line_close\"\u001b[0m \u001b[0;32min\u001b[0m \u001b[0margs\u001b[0m \u001b[0;32mand\u001b[0m \u001b[0margs\u001b[0m\u001b[0;34m[\u001b[0m\u001b[0;34m\"line_close\"\u001b[0m\u001b[0;34m]\u001b[0m\u001b[0;34m:\u001b[0m\u001b[0;34m\u001b[0m\u001b[0;34m\u001b[0m\u001b[0m\n\u001b[0;32m--> 271\u001b[0;31m         \u001b[0mtrace_data\u001b[0m \u001b[0;34m=\u001b[0m \u001b[0mtrace_data\u001b[0m\u001b[0;34m.\u001b[0m\u001b[0mappend\u001b[0m\u001b[0;34m(\u001b[0m\u001b[0mtrace_data\u001b[0m\u001b[0;34m.\u001b[0m\u001b[0miloc\u001b[0m\u001b[0;34m[\u001b[0m\u001b[0;36m0\u001b[0m\u001b[0;34m]\u001b[0m\u001b[0;34m)\u001b[0m\u001b[0;34m\u001b[0m\u001b[0;34m\u001b[0m\u001b[0m\n\u001b[0m\u001b[1;32m    272\u001b[0m     \u001b[0mtrace_patch\u001b[0m \u001b[0;34m=\u001b[0m \u001b[0mtrace_spec\u001b[0m\u001b[0;34m.\u001b[0m\u001b[0mtrace_patch\u001b[0m\u001b[0;34m.\u001b[0m\u001b[0mcopy\u001b[0m\u001b[0;34m(\u001b[0m\u001b[0;34m)\u001b[0m \u001b[0;32mor\u001b[0m \u001b[0;34m{\u001b[0m\u001b[0;34m}\u001b[0m\u001b[0;34m\u001b[0m\u001b[0;34m\u001b[0m\u001b[0m\n\u001b[1;32m    273\u001b[0m     \u001b[0mfit_results\u001b[0m \u001b[0;34m=\u001b[0m \u001b[0;32mNone\u001b[0m\u001b[0;34m\u001b[0m\u001b[0;34m\u001b[0m\u001b[0m\n\u001b[1;32m    274\u001b[0m     \u001b[0mhover_header\u001b[0m \u001b[0;34m=\u001b[0m \u001b[0;34m\"\"\u001b[0m\u001b[0;34m\u001b[0m\u001b[0;34m\u001b[0m\u001b[0m\n",
      "\u001b[0;32m~/anaconda3/envs/py39/lib/python3.9/site-packages/pandas/core/generic.py\u001b[0m in \u001b[0;36m?\u001b[0;34m(self, name)\u001b[0m\n\u001b[1;32m   6200\u001b[0m             \u001b[0;32mand\u001b[0m \u001b[0mname\u001b[0m \u001b[0;32mnot\u001b[0m \u001b[0;32min\u001b[0m \u001b[0mself\u001b[0m\u001b[0;34m.\u001b[0m\u001b[0m_accessors\u001b[0m\u001b[0;34m\u001b[0m\u001b[0;34m\u001b[0m\u001b[0m\n\u001b[1;32m   6201\u001b[0m             \u001b[0;32mand\u001b[0m \u001b[0mself\u001b[0m\u001b[0;34m.\u001b[0m\u001b[0m_info_axis\u001b[0m\u001b[0;34m.\u001b[0m\u001b[0m_can_hold_identifiers_and_holds_name\u001b[0m\u001b[0;34m(\u001b[0m\u001b[0mname\u001b[0m\u001b[0;34m)\u001b[0m\u001b[0;34m\u001b[0m\u001b[0;34m\u001b[0m\u001b[0m\n\u001b[1;32m   6202\u001b[0m         ):\n\u001b[1;32m   6203\u001b[0m             \u001b[0;32mreturn\u001b[0m \u001b[0mself\u001b[0m\u001b[0;34m[\u001b[0m\u001b[0mname\u001b[0m\u001b[0;34m]\u001b[0m\u001b[0;34m\u001b[0m\u001b[0;34m\u001b[0m\u001b[0m\n\u001b[0;32m-> 6204\u001b[0;31m         \u001b[0;32mreturn\u001b[0m \u001b[0mobject\u001b[0m\u001b[0;34m.\u001b[0m\u001b[0m__getattribute__\u001b[0m\u001b[0;34m(\u001b[0m\u001b[0mself\u001b[0m\u001b[0;34m,\u001b[0m \u001b[0mname\u001b[0m\u001b[0;34m)\u001b[0m\u001b[0;34m\u001b[0m\u001b[0;34m\u001b[0m\u001b[0m\n\u001b[0m",
      "\u001b[0;31mAttributeError\u001b[0m: 'DataFrame' object has no attribute 'append'"
     ]
    }
   ],
   "source": [
    "from vizro import Vizro\n",
    "import vizro.models as vm\n",
    "import vizro.plotly.express as px\n",
    "import dash_core_components as dcc\n",
    "\n",
    "subset_df = df[df['patient_id'] == 19010]\n",
    "patient_data = {\n",
    "    \"Patient ID\": 19010,\n",
    "    \"Age\": subset_df['Age'].iloc[-1],\n",
    "    \"Gender\": subset_df['Gender'].iloc[-1],\n",
    "}\n",
    "#\n",
    "formatted_content = f\"\"\"\n",
    "## Patient Information\n",
    "- **Patient ID:** {patient_data['Patient ID']}\n",
    "- **Age:** {patient_data['Age']}\n",
    "- **Gender:** {patient_data['Gender']}\n",
    "\"\"\"\n",
    "# Crear un DataFrame con tus propios datos\n",
    "data2 = {\n",
    "    'Rol': ['Min. Value', 'Min. Value', 'Min. Value', 'Min. Value', 'Min. Value',\n",
    "                'Max. Value', 'Max. Value', 'Max. Value', 'Max. Value', 'Max. Value',\n",
    "                'Patient ', 'Patient ', 'Patient ', 'Patient ', 'Patient '],\n",
    "    'variable': ['HR', 'Tº', 'Leukocite.', 'Creatine', 'O2 Sat ',\n",
    "                'HR', 'Tº', 'Leukocite.', 'Creatine', 'O2 Sat ',\n",
    "                'HR', 'Tº', 'Leukocite.', 'Creatine', 'O2 Sat'],\n",
    "    'value': [\n",
    "              1.4, 3.9, 2.5, 1.5, 0.95,\n",
    "              1.2, 3.8,3.0 , 1.0, 0.9,\n",
    "              1.0, 3.6, 2.3, 1.4, 0.7]\n",
    "}\n",
    "\n",
    "df2 = pd.DataFrame(data2)\n",
    "\n",
    "first_page = vm.Page(\n",
    "    title=\"Overview\",\n",
    "    layout = vm.Layout(grid=[[0,0,2,2,2,3,3],\n",
    "                             [0,0,2,2,2,3,3],\n",
    "                             [0,0,2,2,2,4,5],\n",
    "                             [0,0,2,2,2,4,5],\n",
    "                             [1,12,2,2,2,6,7],\n",
    "                             [1,12,2,2,2,6,7],\n",
    "                             [13,14,2,2,2,8,9],\n",
    "                             [13,14,2,2,2,8,9],\n",
    "                             [15,15,16,16,16,10,11],\n",
    "                             [15,15,16,16,16,10,11],]),\n",
    "    components=[\n",
    "        vm.Card(text=formatted_content\n",
    "        ),\n",
    "        vm.Card(\n",
    "            text=\"\"\"\n",
    "            **Sepsis Risk:** \n",
    "               # -- %\n",
    "            \"\"\",\n",
    "        ),\n",
    "        vm.Graph(\n",
    "            id=\"polar\",\n",
    "            figure =px.line_polar(df2, r=\"value\", theta=\"variable\", color=\"Rol\",\n",
    "                    color_discrete_sequence=px.colors.qualitative.Set1,\n",
    "                    line_close=True,\n",
    "                    template=\"plotly_dark\"),  \n",
    "        ),\n",
    "        vm.Card(\n",
    "            text=\"\"\"\n",
    "               ###  Clinical conditions\n",
    "            \"\"\",\n",
    "        ),\n",
    "        vm.Card(\n",
    "            id=\"hr\",\n",
    "            text=f\"\"\"\n",
    "                **HR:**  {subset_df['HR'].iloc[-1]}bpm\n",
    "            \"\"\",\n",
    "        ),\n",
    "    \n",
    "        vm.Card(\n",
    "            text=f\"\"\"\n",
    "               **Temp:** {subset_df['Temp'].iloc[-1]} °C\n",
    "            \"\"\",\n",
    "        ),\n",
    "        vm.Card(\n",
    "            text=f\"\"\"\n",
    "               **WBC:** {subset_df['WBC'].iloc[-1]}\n",
    "            \"\"\",\n",
    "        ),\n",
    "        vm.Card(\n",
    "            text=f\"\"\"\n",
    "               ** MAP:** {subset_df['MAP'].iloc[-1]} mmHg\n",
    "            \"\"\",\n",
    "        ),\n",
    "\n",
    "        vm.Card(\n",
    "            text=f\"\"\"\n",
    "               ** Platelets:**\n",
    "               {subset_df['Platelets'].iloc[-1]}\n",
    "            \"\"\",\n",
    "        ),\n",
    "        vm.Card(\n",
    "            text=f\"\"\"\n",
    "               ** Bilirubins:**\n",
    "               {subset_df['Bilirubin_total'].iloc[-1]}\n",
    "            \"\"\",\n",
    "        ),\n",
    "        vm.Card(\n",
    "            text=f\"\"\"\n",
    "               ** Creatinine:**\n",
    "               {subset_df['Creatinine'].iloc[-1]}\n",
    "            \"\"\",\n",
    "        ),\n",
    "       vm.Card(\n",
    "            text=f\"\"\"\n",
    "               **Respiratory Rate:** \n",
    "               {subset_df['Resp'].iloc[-1]}breaths/min\n",
    "            \"\"\",\n",
    "        ),\n",
    "        vm.Card(\n",
    "            text=f\"\"\"\n",
    "               **ICULOS:** \n",
    "               ## {subset_df['ICULOS'].iloc[-1]} hours\n",
    "            \"\"\",\n",
    "        ),\n",
    "        vm.Card(\n",
    "            text=f\"\"\"\n",
    "               **SOFA Score:** \n",
    "               {subset_df['SOFA'].iloc[-1]}\n",
    "            \"\"\",\n",
    "        ),\n",
    "        vm.Card(\n",
    "            text=f\"\"\"\n",
    "               **SIRS Score:** \n",
    "               {subset_df['SIRS'].iloc[-1]}\n",
    "            \"\"\",\n",
    "        ),\n",
    "        vm.Card(\n",
    "            text=\"\"\"\n",
    "               ** Observations:**\n",
    "            \"\"\",\n",
    "        ),\n",
    "        vm.Card(\n",
    "            text=f\"\"\"\n",
    "               ** Time:**\n",
    "               {current_time}\n",
    "            \"\"\",\n",
    "        ),\n",
    "\n",
    "    ],\n",
    "\n",
    ")\n",
    "\n",
    "\n",
    "second_page = vm.Page(\n",
    "    title=\"Details\",\n",
    "    components=[\n",
    "        vm.Graph(\n",
    "            id=\"scatter_iris\",\n",
    "            figure= px.line(subset_df, x='ICULOS', y='HR'),\n",
    "        ),\n",
    "        vm.Graph(\n",
    "            id=\"hist_iris\",\n",
    "            figure= px.line(subset_df, x='ICULOS', y='MAP'),\n",
    "        ),\n",
    "    ],\n",
    ")\n",
    "\n",
    "dashboard = vm.Dashboard(pages=[first_page, second_page])\n",
    "Vizro().build(dashboard).run()\n"
   ]
  },
  {
   "cell_type": "markdown",
   "id": "e02ec53d",
   "metadata": {},
   "source": [
    "http://localhost:8050/"
   ]
  },
  {
   "cell_type": "code",
   "execution_count": null,
   "id": "20c50481",
   "metadata": {},
   "outputs": [],
   "source": []
  }
 ],
 "metadata": {
  "kernelspec": {
   "display_name": "Python 3 (ipykernel)",
   "language": "python",
   "name": "python3"
  },
  "language_info": {
   "codemirror_mode": {
    "name": "ipython",
    "version": 3
   },
   "file_extension": ".py",
   "mimetype": "text/x-python",
   "name": "python",
   "nbconvert_exporter": "python",
   "pygments_lexer": "ipython3",
   "version": "3.9.18"
  }
 },
 "nbformat": 4,
 "nbformat_minor": 5
}
