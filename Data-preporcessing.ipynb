{
 "cells": [
  {
   "cell_type": "code",
   "execution_count": 1,
   "id": "d02d3f01",
   "metadata": {},
   "outputs": [],
   "source": [
    "import os\n",
    "import pandas as pd\n",
    "from sklearn.impute import KNNImputer\n",
    "import numpy as np"
   ]
  },
  {
   "cell_type": "markdown",
   "id": "9fb88efd",
   "metadata": {},
   "source": [
    "Read and Combine PSV Files:"
   ]
  },
  {
   "cell_type": "code",
   "execution_count": null,
   "id": "cb036a82",
   "metadata": {},
   "outputs": [],
   "source": [
    "# Path to your PSV files folder\n",
    "folder_path = 'training/'\n",
    "# List to store individual dataframes\n",
    "dataframes = []\n",
    "\n",
    "# Loop through files in the folder and read them into dataframes\n",
    "for filename in os.listdir(folder_path):\n",
    "    if filename.endswith('.psv'):\n",
    "        file_path = os.path.join(folder_path, filename)\n",
    "        df = pd.read_csv(file_path, sep='|')\n",
    "        \n",
    "        # Extract patient ID from the filename (assuming filename format 'pXXXXXX.psv')\n",
    "        patient_id = int(filename.split('p')[1].split('.')[0])  # Extract numeric part from the filename\n",
    "        \n",
    "        # Add patient ID column to the dataframe\n",
    "        df.insert(0, 'patient_id', patient_id)\n",
    "        \n",
    "        dataframes.append(df)\n",
    "\n",
    "# Combine all dataframes into one\n",
    "combined_df = pd.concat(dataframes, ignore_index=True)\n",
    "\n"
   ]
  },
  {
   "cell_type": "code",
   "execution_count": null,
   "id": "a0029eef",
   "metadata": {},
   "outputs": [],
   "source": [
    "# Calculate days since admission based on ICULOS for each row\n",
    "combined_df['days_since_admission'] = combined_df['ICULOS'] / 24  # Assuming ICULOS is in hours\n",
    "\n",
    "# Identify patients that meet the condition\n",
    "patients_to_keep = combined_df.loc[combined_df['days_since_admission'] > 4, 'patient_id'].unique()\n",
    "\n",
    "# Create subDataset containing rows for patients that meet the condition\n",
    "subDataset = combined_df[combined_df['patient_id'].isin(patients_to_keep)]\n",
    "\n",
    "# Drop the temporary 'days_since_admission' column if it's no longer needed\n",
    "subDataset.drop(columns=['days_since_admission'], inplace=True)\n"
   ]
  },
  {
   "cell_type": "code",
   "execution_count": null,
   "id": "ba53a673",
   "metadata": {},
   "outputs": [],
   "source": [
    "subDataset"
   ]
  },
  {
   "cell_type": "code",
   "execution_count": null,
   "id": "367da239",
   "metadata": {},
   "outputs": [],
   "source": [
    "import pandas as pd\n",
    "from sklearn.impute import KNNImputer\n"
   ]
  },
  {
   "cell_type": "code",
   "execution_count": null,
   "id": "603b08d8",
   "metadata": {},
   "outputs": [],
   "source": [
    "columns_to_impute"
   ]
  },
  {
   "cell_type": "code",
   "execution_count": null,
   "id": "fbc11c9c",
   "metadata": {},
   "outputs": [],
   "source": [
    "# Specify columns for imputation\n",
    "columns_to_impute = ['HR', 'Temp', 'WBC', 'MAP', 'Platelets', 'Bilirubin_total', 'Creatinine', 'Resp']\n",
    "\n",
    "# Create a KNNImputer object \n",
    "imputer = KNNImputer(n_neighbors=5)  \n",
    "\n",
    "# Perform imputation for specified columns\n",
    "subDataset[columns_to_impute] = imputer.fit_transform(subDataset[columns_to_impute])\n"
   ]
  },
  {
   "cell_type": "code",
   "execution_count": null,
   "id": "63a89514",
   "metadata": {},
   "outputs": [],
   "source": [
    "# Calculate the 'SIRS' column\n",
    "subDataset['SIRS'] = (subDataset['HR'].between(60, 100) &\n",
    "                      subDataset['Temp'].between(36, 38.3) &\n",
    "                      subDataset['WBC'].between(4.0, 12.0)).astype(int)\n",
    "\n",
    "# Insert 'SIRS' column as the second column in the DataFrame\n",
    "subDataset.insert(1, 'SIRS', subDataset.pop('SIRS'))\n"
   ]
  },
  {
   "cell_type": "code",
   "execution_count": null,
   "id": "8628b92d",
   "metadata": {
    "scrolled": true
   },
   "outputs": [],
   "source": [
    "subDataset"
   ]
  },
  {
   "cell_type": "code",
   "execution_count": null,
   "id": "8c9db238",
   "metadata": {},
   "outputs": [],
   "source": [
    "# Function to classify patients into SOFA groups\n",
    "def classify_sofa_group(row):\n",
    "    respiration = row['Resp']\n",
    "    platelets = row['Platelets']\n",
    "    bilirubins = row['Bilirubin_total']\n",
    "    arterial_media = row['MAP']\n",
    "    creatinine = row['Creatinine']\n",
    "    \n",
    "    if respiration >= 400 and platelets >= 150 and bilirubins < 1.2 and arterial_media >= 70 and creatinine > 1.2:\n",
    "        return 0\n",
    "    elif respiration < 400 and platelets < 150 and 1.2 < bilirubins < 1.9 and arterial_media < 70 and 1.2 < creatinine < 1.9:\n",
    "        return 1\n",
    "    elif respiration < 300 and platelets < 100 and 2.0 < bilirubins < 5.9 and arterial_media < 70 and 2.0 < creatinine < 3.4:\n",
    "        return 2\n",
    "    elif respiration < 200 and platelets < 50 and 6.0 < bilirubins < 11.9 and arterial_media < 70 and 3.5 < creatinine < 4.9:\n",
    "        return 3\n",
    "    elif respiration < 100 and platelets < 20 and bilirubins > 12.0 and arterial_media < 70 and creatinine > 5.0:\n",
    "        return 4\n",
    "    else:\n",
    "        return None  # Return None for unclassified rows\n",
    "\n",
    "# Apply the classification function to create 'SOFA_Group' column\n",
    "subDataset['SOFA'] = subDataset.apply(classify_sofa_group, axis=1)\n",
    "\n"
   ]
  },
  {
   "cell_type": "code",
   "execution_count": null,
   "id": "d0a2b47b",
   "metadata": {},
   "outputs": [],
   "source": [
    "subDataset['SOFA'] = subDataset.apply(classify_sofa_group, axis=1)\n",
    "\n",
    "# Insert 'SOFA_Group' column as the third column in the DataFrame\n",
    "subDataset.insert(2, 'SOFA', subDataset.pop('SOFA'))"
   ]
  },
  {
   "cell_type": "code",
   "execution_count": null,
   "id": "f6d1d5df",
   "metadata": {},
   "outputs": [],
   "source": [
    "subDataset.to_csv('ehr.csv', index=False)"
   ]
  },
  {
   "cell_type": "code",
   "execution_count": null,
   "id": "208f3b71",
   "metadata": {},
   "outputs": [],
   "source": []
  }
 ],
 "metadata": {
  "kernelspec": {
   "display_name": "Python 3 (ipykernel)",
   "language": "python",
   "name": "python3"
  },
  "language_info": {
   "codemirror_mode": {
    "name": "ipython",
    "version": 3
   },
   "file_extension": ".py",
   "mimetype": "text/x-python",
   "name": "python",
   "nbconvert_exporter": "python",
   "pygments_lexer": "ipython3",
   "version": "3.9.18"
  }
 },
 "nbformat": 4,
 "nbformat_minor": 5
}
